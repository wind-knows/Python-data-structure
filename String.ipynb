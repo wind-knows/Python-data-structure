{
 "cells": [
  {
   "cell_type": "markdown",
   "id": "e229246b",
   "metadata": {},
   "source": [
    "## 字符串"
   ]
  },
  {
   "cell_type": "markdown",
   "id": "483966c3",
   "metadata": {},
   "source": [
    "---"
   ]
  },
  {
   "cell_type": "markdown",
   "id": "08645319",
   "metadata": {},
   "source": [
    "#### 创建\n",
    "用单双引号都可以"
   ]
  },
  {
   "cell_type": "code",
   "execution_count": 1,
   "id": "8c584df4",
   "metadata": {},
   "outputs": [],
   "source": [
    "str1 = 'Hello python'\n",
    "str2 = \"Hello world\""
   ]
  },
  {
   "cell_type": "markdown",
   "id": "5e015887",
   "metadata": {},
   "source": [
    "---"
   ]
  },
  {
   "cell_type": "markdown",
   "id": "bcd135f8",
   "metadata": {},
   "source": [
    "#### 访问值：\n",
    "指定index或index范围"
   ]
  },
  {
   "cell_type": "code",
   "execution_count": 2,
   "id": "ad5262e1",
   "metadata": {
    "scrolled": false
   },
   "outputs": [
    {
     "name": "stdout",
     "output_type": "stream",
     "text": [
      "e p n\n",
      "Hello\n"
     ]
    }
   ],
   "source": [
    "print(str1[1],str1[6],str1[-1])\n",
    "print(str2[:5])"
   ]
  },
  {
   "cell_type": "markdown",
   "id": "0256f7db",
   "metadata": {},
   "source": [
    "#### 字符串运算\n",
    "\n",
    "连接、重复、判断是否包含"
   ]
  },
  {
   "cell_type": "code",
   "execution_count": 3,
   "id": "930f8457",
   "metadata": {},
   "outputs": [
    {
     "name": "stdout",
     "output_type": "stream",
     "text": [
      "Hello pythonHello world\n",
      "Hello pythonHello pythonHello pythonHello python\n",
      "False\n",
      "True\n",
      "True\n",
      "False\n"
     ]
    }
   ],
   "source": [
    "print(str1 + str2)\n",
    "print(str1 * 4)\n",
    "print('w' in str1)\n",
    "print('w' in str2)\n",
    "print('world' in str2)\n",
    "print('w' not in str2)"
   ]
  },
  {
   "cell_type": "markdown",
   "id": "f74abf10",
   "metadata": {},
   "source": [
    "---"
   ]
  },
  {
   "cell_type": "markdown",
   "id": "2278f291",
   "metadata": {},
   "source": [
    "#### 修改\n",
    "在python中，字符串是不可变的，修改需要一些特殊的操作,  \n",
    "\n",
    "比如use切片+拼接"
   ]
  },
  {
   "cell_type": "code",
   "execution_count": 4,
   "id": "2b50ef44",
   "metadata": {
    "scrolled": true
   },
   "outputs": [
    {
     "name": "stdout",
     "output_type": "stream",
     "text": [
      "he is sad\n",
      "he is not sad\n"
     ]
    }
   ],
   "source": [
    "str3 = 'he is sad'\n",
    "str4 = str3[0:3] + 'is not' + str3[5:]\n",
    "print(str3)\n",
    "print(str4)"
   ]
  },
  {
   "cell_type": "markdown",
   "id": "56d060e0",
   "metadata": {},
   "source": [
    "另外一种比较常用的方式是replace，这适用于批量替换。"
   ]
  },
  {
   "cell_type": "code",
   "execution_count": 5,
   "id": "6b76b61f",
   "metadata": {},
   "outputs": [
    {
     "name": "stdout",
     "output_type": "stream",
     "text": [
      "dddbbbccc\n"
     ]
    }
   ],
   "source": [
    "str5 = 'aaabbbccc'\n",
    "print(str5.replace('a','d'))"
   ]
  },
  {
   "cell_type": "markdown",
   "id": "e7e2eac0",
   "metadata": {},
   "source": [
    "---"
   ]
  },
  {
   "cell_type": "markdown",
   "id": "811d599a",
   "metadata": {},
   "source": [
    "#### 转义字符&emsp;  **\\**\n",
    "转义字符的出现是为了解决一些字符被用作关键字的问题，比如定义字符串用的单双引号 。当然也因此带来了另一些问题，也需要相应解决。\n",
    "\n",
    "这里仅列举一些常用的转义字符"
   ]
  },
  {
   "cell_type": "code",
   "execution_count": 6,
   "id": "69b810f2",
   "metadata": {},
   "outputs": [
    {
     "name": "stdout",
     "output_type": "stream",
     "text": [
      "'\n",
      "\\\n",
      "alliance \n",
      " \bnavi\n"
     ]
    }
   ],
   "source": [
    "# 打印单引号  \n",
    "print('\\'')\n",
    "# 打印反斜杠  \n",
    "print('\\\\')\n",
    "# 换行及退格  \n",
    "print('alliance \\n \\bnavi') "
   ]
  },
  {
   "cell_type": "markdown",
   "id": "12b8c65a",
   "metadata": {},
   "source": [
    "转义字符带来的最大问题，即python对文件路径的判断，windows目录连接用的分隔符是反斜杠&ensp;**\\\\** &ensp;,而这被用作了转义字符。\n",
    "\n",
    "提供几种解决方案如下：\n",
    "\n",
    "- 在字符串前加个字符r，表示该字符串为原始字符串，会完全忽略所有的转义字符。例如，r\"D:\\myDataSet\\test.txt\"；\n",
    "- 对转义字符进行转义，例如，\"D:\\\\\\\\myDataSet\\\\\\\\test.txt\"；\n",
    "- 将分隔符替换为/，是的，在Windows系统下，将分隔符替换为&ensp;/&ensp;的话Python也能正确识别。例如，\"D:/myDataSet/test.txt\"。\n",
    "\n",
    "那么怎么实现呢："
   ]
  },
  {
   "cell_type": "code",
   "execution_count": 7,
   "id": "23992008",
   "metadata": {
    "scrolled": true
   },
   "outputs": [
    {
     "name": "stdout",
     "output_type": "stream",
     "text": [
      "D:\\myDataSet\\test.txt\n",
      "D:\\myDataSet\test.txt \n",
      "\\t被理解为了特殊字符\n"
     ]
    }
   ],
   "source": [
    "example = \"D:\\myDataSet\\test.txt\"\n",
    "print(r\"D:\\myDataSet\\test.txt\")\n",
    "print(example,'\\n\\\\t被理解为了特殊字符')"
   ]
  },
  {
   "cell_type": "code",
   "execution_count": 8,
   "id": "b0219084",
   "metadata": {},
   "outputs": [
    {
     "name": "stdout",
     "output_type": "stream",
     "text": [
      "['good\\n', 'test for dir path\\n']\n",
      "['good\\n', 'test for dir path\\n']\n"
     ]
    }
   ],
   "source": [
    "def funReadTxt(path):\n",
    "    f=open(path)\n",
    "    data = f.readlines()  # 直接将文件中按行读到list里\n",
    "    f.close()  \n",
    "    print(data) \n",
    "funReadTxt(r\"D:\\myDataSet\\test.txt\")\n",
    "funReadTxt(\"D:///myDataSet//test.txt\") # 多个正斜杠也是可以的"
   ]
  },
  {
   "cell_type": "code",
   "execution_count": 9,
   "id": "1af56e57",
   "metadata": {},
   "outputs": [
    {
     "name": "stdout",
     "output_type": "stream",
     "text": [
      "D:/myDataSet\test.txt\n"
     ]
    }
   ],
   "source": [
    "ans1 = example.replace('\\\\','/')\n",
    "print(ans1)"
   ]
  },
  {
   "cell_type": "markdown",
   "id": "08ae3c80",
   "metadata": {},
   "source": [
    "直接替换是不行的。\n",
    "\n",
    "we need repr()函数"
   ]
  },
  {
   "cell_type": "code",
   "execution_count": 10,
   "id": "95fa5bcc",
   "metadata": {
    "scrolled": true
   },
   "outputs": [
    {
     "name": "stdout",
     "output_type": "stream",
     "text": [
      "'D:\\\\myDataSet\\test.txt'\n",
      "D://myDataSet/test.txt\n",
      "D:/myDataSet/test.txt\n"
     ]
    }
   ],
   "source": [
    "# 简单来说，repr()可以把字符串变为对python友好的形式\n",
    "tem = repr(example)\n",
    "print(tem)\n",
    "tem = tem[1:-1] # 去掉前后的单引号\n",
    "# 下面来用正斜杆来替换反斜杠，用双反斜杠替换反斜杠是类似的\n",
    "ans2_ = tem.replace('\\\\','/')\n",
    "print(ans2_)\n",
    "# 注意,若反斜杠和后面的字符没有凑出特殊字符，会出现两个正斜杠在一起,虽然大多数读取函数都对这做了优化，但是还是可以处理一下\n",
    "ans2 = ans2_.replace('//','/')\n",
    "print(ans2)"
   ]
  },
  {
   "cell_type": "code",
   "execution_count": 11,
   "id": "641d0e1d",
   "metadata": {
    "scrolled": true
   },
   "outputs": [
    {
     "name": "stdout",
     "output_type": "stream",
     "text": [
      "['good\\n', 'test for dir path\\n']\n",
      "['good\\n', 'test for dir path\\n']\n",
      "['good\\n', 'test for dir path\\n']\n"
     ]
    }
   ],
   "source": [
    "funReadTxt(tem)\n",
    "funReadTxt(ans2_)\n",
    "funReadTxt(ans2)"
   ]
  },
  {
   "cell_type": "markdown",
   "id": "d00ad67c",
   "metadata": {},
   "source": [
    "都是一个效果嘛~\n",
    "\n",
    "**结论，用下面这个最方便。**"
   ]
  },
  {
   "cell_type": "code",
   "execution_count": 12,
   "id": "af60029f",
   "metadata": {
    "scrolled": true
   },
   "outputs": [
    {
     "name": "stdout",
     "output_type": "stream",
     "text": [
      "['good\\n', 'test for dir path\\n']\n"
     ]
    }
   ],
   "source": [
    "path = repr(example)[1:-1]\n",
    "funReadTxt(path)"
   ]
  },
  {
   "cell_type": "markdown",
   "id": "427f7779",
   "metadata": {},
   "source": [
    "---"
   ]
  },
  {
   "cell_type": "markdown",
   "id": "6cbdbed4",
   "metadata": {},
   "source": [
    "#### 格式化输出"
   ]
  },
  {
   "cell_type": "code",
   "execution_count": 13,
   "id": "a1ac2024",
   "metadata": {},
   "outputs": [
    {
     "name": "stdout",
     "output_type": "stream",
     "text": [
      "3.14\n",
      "2.72\n",
      "3.142\n"
     ]
    }
   ],
   "source": [
    "pi = 3.1415926\n",
    "\n",
    "e = 2.71828\n",
    "\n",
    "print(\"{name1:.2f}\\n{name2:.2f}\\n{name1:.3f}\".format(name1=pi,name2=e))"
   ]
  },
  {
   "cell_type": "markdown",
   "id": "c80feb9c",
   "metadata": {},
   "source": [
    "更多可以参考<https://www.runoob.com/python/att-string-format.html>"
   ]
  },
  {
   "cell_type": "markdown",
   "id": "bd5c01a6",
   "metadata": {},
   "source": [
    "---"
   ]
  },
  {
   "cell_type": "markdown",
   "id": "57217975",
   "metadata": {},
   "source": [
    "#### 常用函数"
   ]
  },
  {
   "cell_type": "markdown",
   "id": "eb938e4a",
   "metadata": {},
   "source": [
    "```python\n",
    "string.count(str, beg=0, end=len(string))\n",
    "```"
   ]
  },
  {
   "cell_type": "markdown",
   "id": "45d804c7",
   "metadata": {},
   "source": [
    "统计string中str出现的次数。"
   ]
  },
  {
   "cell_type": "markdown",
   "id": "0c1ed40e",
   "metadata": {},
   "source": [
    "```Python\n",
    "string.find(str, beg=0, end=len(string))\n",
    "string.index(str, beg=0, end=len(string))\n",
    "```\n"
   ]
  },
  {
   "cell_type": "markdown",
   "id": "aaacd40f",
   "metadata": {},
   "source": [
    "寻找子串出现的下表，区别在于在子串不存在时前者返回-1而后者报错"
   ]
  },
  {
   "cell_type": "markdown",
   "id": "b990e97a",
   "metadata": {},
   "source": [
    "```Python\n",
    "string.partition(str)\n",
    "```"
   ]
  },
  {
   "cell_type": "markdown",
   "id": "eb7262ec",
   "metadata": {},
   "source": [
    "在string中寻找第一个str，然后将string分为三部分。"
   ]
  },
  {
   "cell_type": "markdown",
   "id": "ae1bb9e0",
   "metadata": {},
   "source": [
    "```Python\n",
    "string.split(str, num=string.count(str))\n",
    "```"
   ]
  },
  {
   "cell_type": "markdown",
   "id": "327cd9c1",
   "metadata": {},
   "source": [
    "寻找str将string分开，返回的list中不包含str。"
   ]
  },
  {
   "cell_type": "markdown",
   "id": "7b1cdf7b",
   "metadata": {},
   "source": [
    "```Python\n",
    "string.replace(str1, str2,  num=string.count(str1))\n",
    "```"
   ]
  },
  {
   "cell_type": "markdown",
   "id": "5c3e6a69",
   "metadata": {},
   "source": [
    "替代。"
   ]
  },
  {
   "cell_type": "markdown",
   "id": "ca857e36",
   "metadata": {},
   "source": [
    "---"
   ]
  },
  {
   "cell_type": "markdown",
   "id": "9d73ee4c",
   "metadata": {},
   "source": [
    "举一些例子"
   ]
  },
  {
   "cell_type": "code",
   "execution_count": 14,
   "id": "e70a0f07",
   "metadata": {},
   "outputs": [],
   "source": [
    "a1 = 'abedf'.partition('e')\n",
    "\n",
    "a2 = 'sfafds'.split('a')\n",
    "\n",
    "a3 = 'sfsssafsssds'.split('ss')\n",
    "\n",
    "a4 = 'sfssssafsssds'.split('ss')\n",
    "\n",
    "a5 = 'sfssssafsssds'.count('ss')\n",
    "\n",
    "a6 = 'sfssssafsssds'.find('ss')\n",
    "\n",
    "a7 = 'sfssssafsssds'.replace('ss','123')"
   ]
  },
  {
   "cell_type": "code",
   "execution_count": 15,
   "id": "1c9fc9ee",
   "metadata": {},
   "outputs": [
    {
     "name": "stdout",
     "output_type": "stream",
     "text": [
      "('ab', 'e', 'df')\n",
      "['sf', 'fds']\n",
      "['sf', 'saf', 'sds']\n",
      "['sf', '', 'af', 'sds']\n",
      "3\n",
      "2\n",
      "sf123123af123sds\n"
     ]
    }
   ],
   "source": [
    "for i in range(1,8):\n",
    "    print(eval('a{}'.format(i)))"
   ]
  },
  {
   "cell_type": "markdown",
   "id": "af9a0920",
   "metadata": {},
   "source": [
    "---"
   ]
  },
  {
   "cell_type": "markdown",
   "id": "cd29e9c0",
   "metadata": {},
   "source": [
    "```Python\n",
    "string.join(seq)\n",
    "```"
   ]
  },
  {
   "cell_type": "markdown",
   "id": "39e14874",
   "metadata": {},
   "source": [
    "用string连接一个sequence生成字符串。"
   ]
  },
  {
   "cell_type": "markdown",
   "id": "8d8400c0",
   "metadata": {},
   "source": [
    "```Python\n",
    "string.strip([obj])\n",
    "string.lstrip([obj])\n",
    "string.rstrip([obj])\n",
    "```"
   ]
  },
  {
   "cell_type": "markdown",
   "id": "8529124d",
   "metadata": {},
   "source": [
    "去出两端的空格。"
   ]
  },
  {
   "cell_type": "markdown",
   "id": "e96b62e3",
   "metadata": {},
   "source": [
    "```Python\n",
    "string.lower()\n",
    "string.upper()\n",
    "```"
   ]
  },
  {
   "cell_type": "markdown",
   "id": "310720f6",
   "metadata": {},
   "source": [
    "转变大小写。"
   ]
  },
  {
   "cell_type": "markdown",
   "id": "cadea12b",
   "metadata": {},
   "source": [
    "```Python\n",
    "string.isdigit()\n",
    "```"
   ]
  },
  {
   "cell_type": "markdown",
   "id": "d0f90b63",
   "metadata": {},
   "source": [
    "判断字符串是否是纯数字。"
   ]
  },
  {
   "cell_type": "markdown",
   "id": "c650b589",
   "metadata": {},
   "source": [
    "---"
   ]
  },
  {
   "cell_type": "markdown",
   "id": "4460eb40",
   "metadata": {},
   "source": [
    "本文件是在菜鸟教程的基础上加工而成。  \n",
    "  \n",
    "感谢newbing、菜鸟教程和各类博客对我编写本文件的帮助，这里放出菜鸟教程的网址<https://www.runoob.com/python/python-strings.html>"
   ]
  }
 ],
 "metadata": {
  "kernelspec": {
   "display_name": "Python 3 (ipykernel)",
   "language": "python",
   "name": "python3"
  },
  "language_info": {
   "codemirror_mode": {
    "name": "ipython",
    "version": 3
   },
   "file_extension": ".py",
   "mimetype": "text/x-python",
   "name": "python",
   "nbconvert_exporter": "python",
   "pygments_lexer": "ipython3",
   "version": "3.9.13"
  }
 },
 "nbformat": 4,
 "nbformat_minor": 5
}
